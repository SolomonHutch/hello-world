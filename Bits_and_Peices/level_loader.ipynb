{
 "cells": [
  {
   "cell_type": "code",
   "execution_count": 1,
   "metadata": {},
   "outputs": [
    {
     "name": "stdout",
     "output_type": "stream",
     "text": [
      "All tests pass\n"
     ]
    },
    {
     "data": {
      "text/plain": [
       "storyteller_base.Location"
      ]
     },
     "execution_count": 1,
     "metadata": {},
     "output_type": "execute_result"
    }
   ],
   "source": [
    "from storyteller_base import Location, Direction, add_location, game_map, start_location, add_connection\n",
    "from tests import all_tests\n",
    "all_tests()\n",
    "\n",
    "s = Location('a place', )\n",
    "north = Direction('go north', s)\n",
    "type(north.destination)"
   ]
  },
  {
   "cell_type": "code",
   "execution_count": 2,
   "metadata": {},
   "outputs": [
    {
     "data": {
      "text/plain": [
       "<Location \"The castle is huge.\" exits:{'walk to the field': <\"walk to the field\" -> \"You are in a gr...\">}>"
      ]
     },
     "execution_count": 2,
     "metadata": {},
     "output_type": "execute_result"
    }
   ],
   "source": [
    "add_location(start_location, 'walk to the castle', \"The castle is huge.\", 'walk to the field', save=True)"
   ]
  },
  {
   "cell_type": "code",
   "execution_count": 3,
   "metadata": {},
   "outputs": [
    {
     "data": {
      "text/plain": [
       "{'The castle is huge.': <Location \"The castle is huge.\" exits:{'walk to the field': <\"walk to the field\" -> \"You are in a gr...\">}>,\n",
       " 'The pond is very wet.': <Location \"The pond is very wet.\" exits:{'Swim to shore': <\"Swim to shore\" -> \"You are in a gr...\">}>,\n",
       " 'You are in a grass field with a shed and a castle': <Location \"You are in a grass field with a shed and\" exits:{'jump': <\"jump\" -> \"The pond is ver...\">, 'walk to the castle': <\"walk to the castle\" -> \"The castle is h...\">}>}"
      ]
     },
     "execution_count": 3,
     "metadata": {},
     "output_type": "execute_result"
    }
   ],
   "source": [
    "game_map"
   ]
  },
  {
   "cell_type": "code",
   "execution_count": 22,
   "metadata": {},
   "outputs": [
    {
     "data": {
      "text/plain": [
       "{'The pond is very wet.': <Location \"The pond is very wet.\" exits:{'swim to shore': <\"swim to shore\" -> \"You are in a gr...\">, 'swim upstream': <\"swim upstream\" -> \"The river is ni...\">}>,\n",
       " 'The river is nice': <Location \"The river is nice\" exits:{'leave river': <\"leave river\" -> \"You are in a gr...\">, 'go to the river': <\"go to the river\" -> \"The pond is ver...\">, 'swim downriver': <\"swim downriver\" -> \"You reach an ol...\">}>,\n",
       " 'You are in a grass field with a shed and a castle': <Location \"You are in a grass field with a shed and\" exits:{'jump': <\"jump\" -> \"The pond is ver...\">, 'jump in the pond': <\"jump in the pond\" -> \"The pond is ver...\">, 'go swimming': <\"go swimming\" -> \"The river is ni...\">}>,\n",
       " 'You reach an old barn': <Location \"You reach an old barn\" exits:{'go swimming': <\"go swimming\" -> \"The river is ni...\">}>}"
      ]
     },
     "execution_count": 22,
     "metadata": {},
     "output_type": "execute_result"
    }
   ],
   "source": [
    "def build_level():\n",
    "    pond = add_location(start_location, 'jump in the pond', \"The pond is very wet.\", 'swim to shore')\n",
    "    river = add_location(start_location, 'go swimming', 'The river is nice', 'leave river')\n",
    "    add_connection(river, 'swim upstream', pond, 'go to the river')\n",
    "    barn = add_location(river, 'swim downriver', 'You reach an old barn', 'go swimming')\n",
    "\n",
    "build_level()\n",
    "\n",
    "game_map"
   ]
  },
  {
   "cell_type": "code",
   "execution_count": 6,
   "metadata": {},
   "outputs": [
    {
     "data": {
      "text/plain": [
       "{'The pond is very wet.': <Location \"The pond is very wet.\" exits:{'swim to shore': <\"swim to shore\" -> \"You are in a gr...\">, 'swim upstream': <\"swim upstream\" -> \"The river is ni...\">}>,\n",
       " 'The river is nice': <Location \"The river is nice\" exits:{'leave river': <\"leave river\" -> \"You are in a gr...\">, 'go to the river': <\"go to the river\" -> \"The pond is ver...\">, 'swim downriver': <\"swim downriver\" -> \"You reach an ol...\">}>,\n",
       " 'You are in a grass field with a shed and a castle': <Location \"You are in a grass field with a shed and\" exits:{'jump': <\"jump\" -> \"The pond is ver...\">, 'jump in the pond': <\"jump in the pond\" -> \"The pond is ver...\">, 'go swimming': <\"go swimming\" -> \"The river is ni...\">}>,\n",
       " 'You reach an old barn': <Location \"You reach an old barn\" exits:{'go swimming': <\"go swimming\" -> \"The river is ni...\">}>}"
      ]
     },
     "execution_count": 6,
     "metadata": {},
     "output_type": "execute_result"
    }
   ],
   "source": [
    "game_map"
   ]
  },
  {
   "cell_type": "code",
   "execution_count": 5,
   "metadata": {},
   "outputs": [],
   "source": [
    "import level_save"
   ]
  },
  {
   "cell_type": "code",
   "execution_count": 6,
   "metadata": {},
   "outputs": [
    {
     "data": {
      "text/plain": [
       "'[\"foo\", {\"bar\": [\"baz\", null, 1.0, 2]}]'"
      ]
     },
     "execution_count": 6,
     "metadata": {},
     "output_type": "execute_result"
    }
   ],
   "source": [
    "import json\n",
    "json.dumps(['foo', {'bar': ('baz', None, 1.0, 2)}])"
   ]
  },
  {
   "cell_type": "code",
   "execution_count": 7,
   "metadata": {},
   "outputs": [
    {
     "data": {
      "text/plain": [
       "['foo', {'bar': ['baz', None, 1.0, 2]}]"
      ]
     },
     "execution_count": 7,
     "metadata": {},
     "output_type": "execute_result"
    }
   ],
   "source": [
    "json.loads('[\"foo\", {\"bar\":[\"baz\", null, 1.0, 2]}]')"
   ]
  },
  {
   "cell_type": "code",
   "execution_count": null,
   "metadata": {},
   "outputs": [],
   "source": []
  },
  {
   "cell_type": "code",
   "execution_count": null,
   "metadata": {},
   "outputs": [],
   "source": []
  }
 ],
 "metadata": {
  "kernelspec": {
   "display_name": "Python 3",
   "language": "python",
   "name": "python3"
  },
  "language_info": {
   "codemirror_mode": {
    "name": "ipython",
    "version": 3
   },
   "file_extension": ".py",
   "mimetype": "text/x-python",
   "name": "python",
   "nbconvert_exporter": "python",
   "pygments_lexer": "ipython3",
   "version": "3.6.1"
  }
 },
 "nbformat": 4,
 "nbformat_minor": 2
}
