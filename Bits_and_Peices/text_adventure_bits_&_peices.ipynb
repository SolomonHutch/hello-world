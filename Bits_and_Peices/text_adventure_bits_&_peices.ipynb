{
 "cells": [
  {
   "cell_type": "code",
   "execution_count": null,
   "metadata": {},
   "outputs": [],
   "source": []
  },
  {
   "cell_type": "code",
   "execution_count": 1,
   "metadata": {},
   "outputs": [
    {
     "name": "stdout",
     "output_type": "stream",
     "text": [
      "All tests pass\n"
     ]
    }
   ],
   "source": [
    "from storyteller_base import Location, Direction, add_location, game_map, start_location\n",
    "from tests import all_tests\n",
    "all_tests()\n",
    "import level_save\n",
    "    \n",
    "def verb_check(user_action):\n",
    "    move_verbs = [\"go\",\"enter\",\"walk\",\"run\",\"climb\",\"swim\",\"wade\",\"dive\",\"jump\",\"fall\",\"slide\",\"crawl\",\"roll\",\"sprint\",\"stumble\",\"jog\",\"truge\",\"stroll\", \"leave\"]\n",
    "    return any(word in user_action.lower() for word in move_verbs)\n",
    "\n",
    "def interpret(question):\n",
    "    action = input(question+\"\\n\")\n",
    "    if verb_check(action):\n",
    "        return(action)\n",
    "    else:\n",
    "        print(\"you cant do that!  try again\\n\")\n",
    "        return interpret(question)\n",
    "\n",
    "    \n",
    "        "
   ]
  },
  {
   "cell_type": "code",
   "execution_count": 2,
   "metadata": {},
   "outputs": [],
   "source": [
    "def next_move(current_location):\n",
    "    action_taken = interpret(\"what do you do?\")\n",
    "    if action_taken in current_location.exits:\n",
    "        current_location = current_location.exits[action_taken].destination\n",
    "        print(current_location)\n",
    "        return current_location\n",
    "    else:\n",
    "        room_entering = input(\"what do you see?\\n\")\n",
    "        how_to_get_back = interpret(\"what would you do to get back?\")\n",
    "        \n",
    "            \n",
    "        current_location = add_location(current_location, action_taken, room_entering, how_to_get_back, save = True)\n",
    "    return current_location"
   ]
  },
  {
   "cell_type": "code",
   "execution_count": 3,
   "metadata": {},
   "outputs": [],
   "source": [
    "def main():\n",
    "    current_location = start_location\n",
    "    print(current_location.description)\n",
    "    while True:\n",
    "        current_location = next_move(current_location)"
   ]
  },
  {
   "cell_type": "code",
   "execution_count": null,
   "metadata": {},
   "outputs": [
    {
     "name": "stdout",
     "output_type": "stream",
     "text": [
      "You are in a grass field with a shed and a castle\n",
      "what do you do?\n",
      "walk to the castle\n",
      "<Location \"The castle is huge.\" exits:{'walk to the field': <\"walk to the field\" -> \"You are in a gr...\">}>\n",
      "what do you do?\n",
      "walk to the field\n",
      "<Location \"You are in a grass field with a shed and\" exits:{'jump': <\"jump\" -> \"The pond is ver...\">, 'jump in the pond': <\"jump in the pond\" -> \"The pond is ver...\">, 'go swimming': <\"go swimming\" -> \"The river is ni...\">, 'walk to the castle': <\"walk to the castle\" -> \"The castle is h...\">}>\n",
      "what do you do?\n",
      "jump\n",
      "<Location \"The pond is very wet.\" exits:{'Swim to shore': <\"Swim to shore\" -> \"You are in a gr...\">}>\n",
      "what do you do?\n",
      "swim to shore\n"
     ]
    }
   ],
   "source": [
    "main()"
   ]
  },
  {
   "cell_type": "code",
   "execution_count": null,
   "metadata": {},
   "outputs": [],
   "source": []
  }
 ],
 "metadata": {
  "kernelspec": {
   "display_name": "Python 3",
   "language": "python",
   "name": "python3"
  },
  "language_info": {
   "codemirror_mode": {
    "name": "ipython",
    "version": 3
   },
   "file_extension": ".py",
   "mimetype": "text/x-python",
   "name": "python",
   "nbconvert_exporter": "python",
   "pygments_lexer": "ipython3",
   "version": "3.6.3"
  }
 },
 "nbformat": 4,
 "nbformat_minor": 2
}
