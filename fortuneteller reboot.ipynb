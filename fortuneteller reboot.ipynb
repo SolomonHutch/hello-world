{
 "cells": [
  {
   "cell_type": "code",
   "execution_count": 8,
   "metadata": {},
   "outputs": [
    {
     "name": "stdout",
     "output_type": "stream",
     "text": [
      "what is your name?\n",
      "    solomon\n"
     ]
    }
   ],
   "source": [
    "from random import choice\n",
    "from time import sleep\n",
    "loop_ans = \"Yes\"\n",
    "\n",
    "##########################################################################################\n",
    "#sets user_name so bias fortunes can be used\n",
    "\n",
    "user_name = input(\"what is your name?\\n    \")\n",
    "\n",
    "##########################################################################################\n",
    "#determines what the standerd fortunes can be\n",
    "\n",
    "fortune_ans = [\n",
    "\"you will die within 20 centuries.\\n\",\n",
    "\"you will blink (provided you are reading this with your own eyes).\\n\",\n",
    "\"you will live on earth for at least 5 more years.\\n\",\n",
    "]\n",
    "\n",
    "###########################################################################################\n",
    "#determines what can be said before the fortunes\n",
    "\n",
    "rand_pre = [\n",
    "\"I can see that...\",\n",
    "\"In the future.. \",\n",
    "\"Listen carefully to what i have to say about what is to come...\",    \n",
    "]\n",
    "\n",
    "###########################################################################################\n",
    "#ditermines the possitive bias predictions possble\n",
    "\n",
    "complimentery_predictions = {\n",
    "\"You will die but will be remembered for your  awesomeness.\",\n",
    "\"You shall awe all who meet you with your amasingness.\",\n",
    "\"you shall not sease being fantastic.\"\n",
    "}"
   ]
  },
  {
   "cell_type": "code",
   "execution_count": 13,
   "metadata": {},
   "outputs": [],
   "source": [
    "##########################################################################################\n",
    "#activeates some bias fortunes\n",
    "\n",
    "def bias_1():\n",
    "    if user_name == \"solomon\":\n",
    "        print(choice(complimentery_predictions))"
   ]
  },
  {
   "cell_type": "code",
   "execution_count": 14,
   "metadata": {},
   "outputs": [],
   "source": [
    "while loop_ans == \"yes\" or loop_ans == \"Yes\":\n",
    "    print(choice(rand_pre))\n",
    "    \n",
    "    bias_1\n",
    "    \n",
    "    \n",
    "    \n",
    "    loop_ans = input(\"shall i delve into the future further?\\n    \")\n",
    "    if loop_ans == \"yes\":\n",
    "        print()\n",
    "    elif loop_ans == \"No\":\n",
    "        print(\"Goodbye then.\")"
   ]
  },
  {
   "cell_type": "code",
   "execution_count": 30,
   "metadata": {},
   "outputs": [
    {
     "name": "stdout",
     "output_type": "stream",
     "text": [
      "['a', 'b', 'c']\n"
     ]
    }
   ],
   "source": [
    "print([x.lower() for x in [\"A\",\"B\",\"C\"]])"
   ]
  },
  {
   "cell_type": "code",
   "execution_count": null,
   "metadata": {},
   "outputs": [],
   "source": []
  }
 ],
 "metadata": {
  "kernelspec": {
   "display_name": "Python 3",
   "language": "python",
   "name": "python3"
  },
  "language_info": {
   "codemirror_mode": {
    "name": "ipython",
    "version": 3
   },
   "file_extension": ".py",
   "mimetype": "text/x-python",
   "name": "python",
   "nbconvert_exporter": "python",
   "pygments_lexer": "ipython3",
   "version": "3.6.3"
  }
 },
 "nbformat": 4,
 "nbformat_minor": 2
}
