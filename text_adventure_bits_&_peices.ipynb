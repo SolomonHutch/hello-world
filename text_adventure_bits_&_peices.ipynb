{
 "cells": [
  {
   "cell_type": "markdown",
   "metadata": {},
   "source": [
    "### add location\n",
    "* room_that_youre_leaving: Location\n",
    "* action_taken: str\n",
    "* room_entering: str\n",
    "* description: str\n",
    "* how_to_get_back: str"
   ]
  },
  {
   "cell_type": "code",
   "execution_count": 4,
   "metadata": {},
   "outputs": [
    {
     "name": "stdout",
     "output_type": "stream",
     "text": [
      "All tests pass\n"
     ]
    }
   ],
   "source": [
    "from storyteller_base import Location, Direction, add_location, game_map, start_location\n",
    "from tests import all_tests\n",
    "all_tests()\n",
    "\n",
    "###########################################locates key words##########################################################\n",
    "move_verbs = [\"go\",\"enter\",\"walk\",\"run\",\"climb\",\"swim\",\"wade\",\"dive\",\"jump\",\"fall\",\"slide\",\"crawl\",\"roll\",\"sprint\",\"stumble\",\"jog\",\"truge\",\"stroll\"]\n",
    "\n",
    "###########################################sets the function interpret################################################\n",
    "def interpret():\n",
    "    action = input(\"what do you do?\\n\")\n",
    "    if any(word in action for word in move_verbs):\n",
    "        ###---------looks for key words in input action\n",
    "        return(action)\n",
    "    else:\n",
    "        print(\"you cant do that!  try again\\n\")\n",
    "        return interpret()"
   ]
  },
  {
   "cell_type": "code",
   "execution_count": 11,
   "metadata": {},
   "outputs": [
    {
     "name": "stdout",
     "output_type": "stream",
     "text": [
      "what do you do?\n",
      "go djdkd\n"
     ]
    },
    {
     "ename": "UnboundLocalError",
     "evalue": "local variable 'current_location' referenced before assignment",
     "output_type": "error",
     "traceback": [
      "\u001b[1;31m---------------------------------------------------------------------------\u001b[0m",
      "\u001b[1;31mUnboundLocalError\u001b[0m                         Traceback (most recent call last)",
      "\u001b[1;32m<ipython-input-11-d33f14067891>\u001b[0m in \u001b[0;36m<module>\u001b[1;34m()\u001b[0m\n\u001b[0;32m     12\u001b[0m         \u001b[0madd_location\u001b[0m\u001b[1;33m(\u001b[0m\u001b[0mcurrent_location\u001b[0m\u001b[1;33m,\u001b[0m \u001b[0maction_taken\u001b[0m\u001b[1;33m,\u001b[0m \u001b[0mroom_entering\u001b[0m\u001b[1;33m,\u001b[0m \u001b[0mhow_to_get_back\u001b[0m\u001b[1;33m)\u001b[0m\u001b[1;33m\u001b[0m\u001b[0m\n\u001b[0;32m     13\u001b[0m \u001b[1;31m##############################runs next_move############################################################################\u001b[0m\u001b[1;33m\u001b[0m\u001b[1;33m\u001b[0m\u001b[0m\n\u001b[1;32m---> 14\u001b[1;33m \u001b[0mnext_move\u001b[0m\u001b[1;33m(\u001b[0m\u001b[1;33m)\u001b[0m\u001b[1;33m\u001b[0m\u001b[0m\n\u001b[0m\u001b[0;32m     15\u001b[0m \u001b[0mgame_map\u001b[0m\u001b[1;33m\u001b[0m\u001b[0m\n",
      "\u001b[1;32m<ipython-input-11-d33f14067891>\u001b[0m in \u001b[0;36mnext_move\u001b[1;34m()\u001b[0m\n\u001b[0;32m      4\u001b[0m \u001b[1;32mdef\u001b[0m \u001b[0mnext_move\u001b[0m\u001b[1;33m(\u001b[0m\u001b[1;33m)\u001b[0m\u001b[1;33m:\u001b[0m\u001b[1;33m\u001b[0m\u001b[0m\n\u001b[0;32m      5\u001b[0m     \u001b[0maction_taken\u001b[0m \u001b[1;33m=\u001b[0m \u001b[0minterpret\u001b[0m\u001b[1;33m(\u001b[0m\u001b[1;33m)\u001b[0m\u001b[1;33m\u001b[0m\u001b[0m\n\u001b[1;32m----> 6\u001b[1;33m     \u001b[1;32mif\u001b[0m \u001b[0maction_taken\u001b[0m \u001b[1;32min\u001b[0m \u001b[0mcurrent_location\u001b[0m\u001b[1;33m.\u001b[0m\u001b[0mexits\u001b[0m\u001b[1;33m:\u001b[0m\u001b[1;33m\u001b[0m\u001b[0m\n\u001b[0m\u001b[0;32m      7\u001b[0m         \u001b[0mcurrent_location\u001b[0m \u001b[1;33m=\u001b[0m \u001b[0mcurrent_location\u001b[0m\u001b[1;33m.\u001b[0m\u001b[0mexits\u001b[0m\u001b[1;33m[\u001b[0m\u001b[0maction_taken\u001b[0m\u001b[1;33m]\u001b[0m\u001b[1;33m.\u001b[0m\u001b[0mdestination\u001b[0m\u001b[1;33m\u001b[0m\u001b[0m\n\u001b[0;32m      8\u001b[0m         \u001b[0mprint\u001b[0m\u001b[1;33m(\u001b[0m\u001b[0mcurrent_location\u001b[0m\u001b[1;33m)\u001b[0m\u001b[1;33m\u001b[0m\u001b[0m\n",
      "\u001b[1;31mUnboundLocalError\u001b[0m: local variable 'current_location' referenced before assignment"
     ]
    }
   ],
   "source": [
    "current_location = start_location\n",
    "\n",
    "####################################creates the new room (with next_move function)###############################################################\n",
    "def next_move():\n",
    "    action_taken = interpret()\n",
    "    if action_taken in current_location.exits:\n",
    "        current_location = current_location.exits[action_taken].destination\n",
    "        print(current_location)\n",
    "    else:\n",
    "        room_entering = input(\"what do you see?\\n\")\n",
    "        how_to_get_back = input(\"what would you do to get back?\")\n",
    "        add_location(current_location, action_taken, room_entering, how_to_get_back)\n",
    "##############################runs next_move############################################################################\n",
    "next_move()\n",
    "game_map"
   ]
  },
  {
   "cell_type": "code",
   "execution_count": 10,
   "metadata": {},
   "outputs": [
    {
     "data": {
      "text/plain": [
       "<Location \"You are in a grass field with a shed and\" exits:{'jump': <storyteller_base.Direction object at 0x0568DB30>, 'go t': <storyteller_base.Direction object at 0x039518B0>}>"
      ]
     },
     "execution_count": 10,
     "metadata": {},
     "output_type": "execute_result"
    }
   ],
   "source": [
    "start_location"
   ]
  },
  {
   "cell_type": "code",
   "execution_count": null,
   "metadata": {},
   "outputs": [],
   "source": []
  }
 ],
 "metadata": {
  "kernelspec": {
   "display_name": "Python 3",
   "language": "python",
   "name": "python3"
  },
  "language_info": {
   "codemirror_mode": {
    "name": "ipython",
    "version": 3
   },
   "file_extension": ".py",
   "mimetype": "text/x-python",
   "name": "python",
   "nbconvert_exporter": "python",
   "pygments_lexer": "ipython3",
   "version": "3.6.3"
  }
 },
 "nbformat": 4,
 "nbformat_minor": 2
}
