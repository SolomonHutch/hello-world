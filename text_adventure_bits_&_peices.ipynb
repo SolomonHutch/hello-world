{
 "cells": [
  {
   "cell_type": "code",
   "execution_count": 1,
   "metadata": {},
   "outputs": [],
   "source": [
    "from storyteller_base import Location, Direction, add_location, game_map\n",
    "from tests import all_tests\n",
    "all_tests()"
   ]
  },
  {
   "cell_type": "code",
   "execution_count": 16,
   "metadata": {},
   "outputs": [],
   "source": [
    "def interpret():\n",
    "    action = input(\"what do you do?\\n\")\n",
    "    if any(word in action for word in move_verbs):\n",
    "        ###---------looks for key words in input action\n",
    "        return(action)\n",
    "    else:\n",
    "        print(\"you cant do that!  try again\\n\")\n",
    "        return interpret()"
   ]
  },
  {
   "cell_type": "code",
   "execution_count": 17,
   "metadata": {},
   "outputs": [],
   "source": [
    "###locates key words\n",
    "move_verbs = [\"go\",\"enter\",\"walk\",\"run\",\"climb\",\"swim\",\"wade\",\"dive\",\"jump\",\"fall\",\"slide\",\"crawl\",\"roll\",\"sprint\",\"stumble\",\"jog\",\"truge\",\"stroll\"]"
   ]
  },
  {
   "cell_type": "code",
   "execution_count": 18,
   "metadata": {},
   "outputs": [],
   "source": [
    "a_place = game_map[\"start\"]"
   ]
  },
  {
   "cell_type": "markdown",
   "metadata": {},
   "source": [
    "### add location\n",
    "* room_that_youre_leaving: Location\n",
    "* action_taken: str\n",
    "* room_entering: str\n",
    "* description: str\n",
    "* how_to_get_back: str"
   ]
  },
  {
   "cell_type": "code",
   "execution_count": 19,
   "metadata": {},
   "outputs": [
    {
     "name": "stdout",
     "output_type": "stream",
     "text": [
      "what do you see?bob\n"
     ]
    }
   ],
   "source": [
    "another_place = input(\"what do you see?\")"
   ]
  },
  {
   "cell_type": "code",
   "execution_count": 22,
   "metadata": {},
   "outputs": [
    {
     "name": "stdout",
     "output_type": "stream",
     "text": [
      "what do you do?\n",
      "dart\n",
      "you cant do that!  try again\n",
      "\n",
      "what do you do?\n",
      "go\n"
     ]
    }
   ],
   "source": [
    "my_exit = interpret()"
   ]
  },
  {
   "cell_type": "code",
   "execution_count": 23,
   "metadata": {},
   "outputs": [
    {
     "data": {
      "text/plain": [
       "'go'"
      ]
     },
     "execution_count": 23,
     "metadata": {},
     "output_type": "execute_result"
    }
   ],
   "source": [
    "my_exit"
   ]
  },
  {
   "cell_type": "code",
   "execution_count": null,
   "metadata": {},
   "outputs": [],
   "source": []
  }
 ],
 "metadata": {
  "kernelspec": {
   "display_name": "Python 3",
   "language": "python",
   "name": "python3"
  },
  "language_info": {
   "codemirror_mode": {
    "name": "ipython",
    "version": 3
   },
   "file_extension": ".py",
   "mimetype": "text/x-python",
   "name": "python",
   "nbconvert_exporter": "python",
   "pygments_lexer": "ipython3",
   "version": "3.6.3"
  }
 },
 "nbformat": 4,
 "nbformat_minor": 2
}
