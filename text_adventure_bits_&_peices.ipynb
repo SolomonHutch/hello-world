{
 "cells": [
  {
   "cell_type": "code",
   "execution_count": 1,
   "metadata": {},
   "outputs": [
    {
     "name": "stdout",
     "output_type": "stream",
     "text": [
      "All tests pass\n"
     ]
    }
   ],
   "source": [
    "from storyteller_base import Location, Direction, add_location, game_map, start_location\n",
    "from tests import all_tests\n",
    "all_tests()\n",
    "\n",
    "###########################################locates key words##########################################################\n",
    "move_verbs = [\"go\",\"enter\",\"walk\",\"run\",\"climb\",\"swim\",\"wade\",\"dive\",\"jump\",\"fall\",\"slide\",\"crawl\",\"roll\",\"sprint\",\"stumble\",\"jog\",\"truge\",\"stroll\"]\n",
    "\n",
    "###########################################sets the function interpret################################################\n",
    "def interpret():\n",
    "    action = input(\"what do you do?\\n\")\n",
    "    if any(word in action for word in move_verbs):\n",
    "        ###---------looks for key words in input action\n",
    "        return(action)\n",
    "    else:\n",
    "        print(\"you cant do that!  try again\\n\")\n",
    "        return interpret()"
   ]
  },
  {
   "cell_type": "code",
   "execution_count": 2,
   "metadata": {},
   "outputs": [
    {
     "data": {
      "text/plain": [
       "{<Location \"The pond is very wet.\" exits:{'Swim to shore': <\"Swim to shore\" -> \"You are in a gr...\">}>,\n",
       " <Location \"You are in a grass field with a shed and\" exits:{'jump': <\"jump\" -> \"The pond is ver...\">}>}"
      ]
     },
     "execution_count": 2,
     "metadata": {},
     "output_type": "execute_result"
    }
   ],
   "source": [
    "game_map"
   ]
  },
  {
   "cell_type": "code",
   "execution_count": 4,
   "metadata": {},
   "outputs": [],
   "source": [
    "current_location = start_location"
   ]
  },
  {
   "cell_type": "code",
   "execution_count": 5,
   "metadata": {},
   "outputs": [
    {
     "name": "stdout",
     "output_type": "stream",
     "text": [
      "what do you do?\n",
      "walk backwards\n",
      "what do you see?\n",
      "You hit a wall\n",
      "what would you do to get back?walk forwards\n"
     ]
    },
    {
     "data": {
      "text/plain": [
       "{<Location \"The pond is very wet.\" exits:{'Swim to shore': <\"Swim to shore\" -> \"You are in a gr...\">}>,\n",
       " <Location \"You are in a grass field with a shed and\" exits:{'jump': <\"jump\" -> \"The pond is ver...\">, 'walk backwards': <\"walk backwards\" -> \"You hit a wall...\">}>,\n",
       " <Location \"You hit a wall\" exits:{'walk forwards': <\"walk forwards\" -> \"You are in a gr...\">}>}"
      ]
     },
     "execution_count": 5,
     "metadata": {},
     "output_type": "execute_result"
    }
   ],
   "source": [
    "####################################creates the new room (with next_move function)###############################################################\n",
    "def next_move(current_location):\n",
    "    action_taken = interpret()\n",
    "    if action_taken in current_location.exits:\n",
    "        current_location = current_location.exits[action_taken].destination\n",
    "        print(current_location)\n",
    "        return current_location\n",
    "    else:\n",
    "        room_entering = input(\"what do you see?\\n\")\n",
    "        how_to_get_back = input(\"what would you do to get back?\")\n",
    "        current_location = add_location(current_location, action_taken, room_entering, how_to_get_back)\n",
    "    return current_location\n",
    "##############################runs next_move############################################################################\n",
    "current_location = next_move(current_location)\n",
    "game_map"
   ]
  },
  {
   "cell_type": "code",
   "execution_count": 6,
   "metadata": {},
   "outputs": [
    {
     "data": {
      "text/plain": [
       "<Location \"You are in a grass field with a shed and\" exits:{'jump': <\"jump\" -> \"The pond is ver...\">, 'walk backwards': <\"walk backwards\" -> \"You hit a wall...\">}>"
      ]
     },
     "execution_count": 6,
     "metadata": {},
     "output_type": "execute_result"
    }
   ],
   "source": [
    "start_location"
   ]
  },
  {
   "cell_type": "code",
   "execution_count": 7,
   "metadata": {},
   "outputs": [
    {
     "data": {
      "text/plain": [
       "<Location \"You hit a wall\" exits:{'walk forwards': <\"walk forwards\" -> \"You are in a gr...\">}>"
      ]
     },
     "execution_count": 7,
     "metadata": {},
     "output_type": "execute_result"
    }
   ],
   "source": [
    "current_location\n"
   ]
  }
 ],
 "metadata": {
  "kernelspec": {
   "display_name": "Python 3",
   "language": "python",
   "name": "python3"
  },
  "language_info": {
   "codemirror_mode": {
    "name": "ipython",
    "version": 3
   },
   "file_extension": ".py",
   "mimetype": "text/x-python",
   "name": "python",
   "nbconvert_exporter": "python",
   "pygments_lexer": "ipython3",
   "version": "3.6.1"
  }
 },
 "nbformat": 4,
 "nbformat_minor": 2
}
