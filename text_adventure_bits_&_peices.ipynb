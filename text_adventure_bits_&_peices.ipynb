{
 "cells": [
  {
   "cell_type": "code",
   "execution_count": 3,
   "metadata": {},
   "outputs": [],
   "source": []
  },
  {
   "cell_type": "code",
   "execution_count": 14,
   "metadata": {},
   "outputs": [
    {
     "name": "stdout",
     "output_type": "stream",
     "text": [
      "All tests pass\n"
     ]
    }
   ],
   "source": [
    "from storyteller_base import Location, Direction, add_location, game_map, start_location\n",
    "from tests import all_tests\n",
    "all_tests()\n",
    "\n",
    "current_location = start_location\n",
    "    \n",
    "def verb_check(user_action):\n",
    "    move_verbs = [\"go\",\"enter\",\"walk\",\"run\",\"climb\",\"swim\",\"wade\",\"dive\",\"jump\",\"fall\",\"slide\",\"crawl\",\"roll\",\"sprint\",\"stumble\",\"jog\",\"truge\",\"stroll\", \"leave\"]\n",
    "    return any(word in user_action.lower() for word in move_verbs)\n",
    "\n",
    "def interpret(question):\n",
    "    action = input(question+\"\\n\")\n",
    "    if verb_check(action):\n",
    "        return(action)\n",
    "    else:\n",
    "        print(\"you cant do that!  try again\\n\")\n",
    "        return interpret(question)\n",
    "\n",
    "    \n",
    "        "
   ]
  },
  {
   "cell_type": "code",
   "execution_count": 17,
   "metadata": {},
   "outputs": [
    {
     "name": "stdout",
     "output_type": "stream",
     "text": [
      "what do you do?\n",
      "climb a hill\n",
      "<Location \"You are in a grass field with a shed and\" exits:{'jump': <\"jump\" -> \"The pond is ver...\">, 'go dshjlf': <\"go dshjlf\" -> \"...\">, 'go sssss': <\"go sssss\" -> \"...\">, 'go elsewhere': <\"go elsewhere\" -> \"nothing...\">}>\n"
     ]
    },
    {
     "data": {
      "text/plain": [
       "{<Location \"\" exits:{'go dfklghdfghdla': <\"go dfklghdfghdla\" -> \"You are in a gr...\">}>,\n",
       " <Location \"\" exits:{'go gjksdflghkl': <\"go gjksdflghkl\" -> \"You are in a gr...\">}>,\n",
       " <Location \"The pond is very wet.\" exits:{'Swim to shore': <\"Swim to shore\" -> \"You are in a gr...\">}>,\n",
       " <Location \"The pond is very wet.\" exits:{'Swim to shore': <\"Swim to shore\" -> \"You are in a gr...\">}>,\n",
       " <Location \"The pond is very wet.\" exits:{'Swim to shore': <\"Swim to shore\" -> \"You are in a gr...\">}>,\n",
       " <Location \"The pond is very wet.\" exits:{'Swim to shore': <\"Swim to shore\" -> \"You are in a gr...\">}>,\n",
       " <Location \"You are in a grass field with a shed and\" exits:{'jump': <\"jump\" -> \"The pond is ver...\">, 'go dshjlf': <\"go dshjlf\" -> \"...\">, 'go sssss': <\"go sssss\" -> \"...\">, 'go elsewhere': <\"go elsewhere\" -> \"nothing...\">}>,\n",
       " <Location \"nothing\" exits:{'climb a hill': <\"climb a hill\" -> \"You are in a gr...\">}>}"
      ]
     },
     "execution_count": 17,
     "metadata": {},
     "output_type": "execute_result"
    }
   ],
   "source": [
    "def next_move(current_location):\n",
    "    action_taken = interpret(\"what do you do?\")\n",
    "    if action_taken in current_location.exits:\n",
    "        current_location = current_location.exits[action_taken].destination\n",
    "        print(current_location)\n",
    "        return current_location\n",
    "    else:\n",
    "        room_entering = input(\"what do you see?\\n\")\n",
    "        how_to_get_back = interpret(\"what would you do to get back?\")\n",
    "        \n",
    "            \n",
    "        current_location = add_location(current_location, action_taken, room_entering, how_to_get_back)\n",
    "    return current_location\n",
    "current_location = next_move(current_location)\n",
    "game_map"
   ]
  },
  {
   "cell_type": "code",
   "execution_count": null,
   "metadata": {},
   "outputs": [],
   "source": []
  }
 ],
 "metadata": {
  "kernelspec": {
   "display_name": "Python 3",
   "language": "python",
   "name": "python3"
  },
  "language_info": {
   "codemirror_mode": {
    "name": "ipython",
    "version": 3
   },
   "file_extension": ".py",
   "mimetype": "text/x-python",
   "name": "python",
   "nbconvert_exporter": "python",
   "pygments_lexer": "ipython3",
   "version": "3.6.3"
  }
 },
 "nbformat": 4,
 "nbformat_minor": 2
}
